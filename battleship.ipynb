{
 "cells": [
  {
   "cell_type": "code",
   "execution_count": 1,
   "metadata": {},
   "outputs": [],
   "source": [
    "import random as rd\n",
    "import numpy as np\n",
    "import matplotlib.pyplot as plt\n",
    "\n",
    "\n",
    "# Now, I think I have ~60% of the task done"
   ]
  },
  {
   "cell_type": "code",
   "execution_count": 2,
   "metadata": {},
   "outputs": [],
   "source": [
    "class Player:\n",
    "    \n",
    "    def __init__(self, name, L):\n",
    "        self.L = L\n",
    "        self.L2 = L*L\n",
    "        self.name = name\n",
    "        self.matmain = np.full((L, L), -1)\n",
    "        self.matrecord = np.zeros((L, L), dtype=int) #your register of choices regard attacks in the opponent\n",
    "        self.alreadyhit = []\n",
    "\n",
    "    def initialize_mat(self,n0,n1): \n",
    "        aux0 = np.zeros((n0), dtype=int)\n",
    "        aux1 = np.ones((n1), dtype=int)\n",
    "        full = np.concatenate( (aux0,aux1), axis=None)\n",
    "        np.random.shuffle(full)\n",
    "        self.matmain = np.reshape(full , (L, L)) \n",
    "\n",
    "\n",
    "    def attack(self,obj_opp): \n",
    "        \n",
    "        x1_opp,y1_opp = np.where( obj_opp.matmain==1) \n",
    "        #print('x1_opp:', x1_opp) \n",
    "        #print('y1_opp:', y1_opp) \n",
    "        \n",
    "        # Now pick  at random (x,y)  from your board of choices self.matrecord == 0 (you haven't chosen previously)\n",
    "        x0_choices, y0_choices = np.where( self.matrecord==0 ) \n",
    "        chosen = rd.randint(0,len(x0_choices)-1)                         \n",
    "        \n",
    "        # compare with (x1_opp,y1_opp) from the board of ships of the opponent                \n",
    "        #print( x0_choices[chosen], x0_choices[chosen] in x1_opp )\n",
    "        #print( y0_choices[chosen], y0_choices[chosen] in y1_opp ) \n",
    "\n",
    "        x = x0_choices[chosen]\n",
    "        y = y0_choices[chosen]\n",
    "\n",
    "        # In this minimal version you always change 0 ---> -1 in your board of choices\n",
    "        #self.matrecord[x,y] = 1\n",
    "\n",
    "        if obj_opp.matmain[x,y] == 1: \n",
    "            #print('you hitted', obj_opp.matmain[x,y], \"(x,y)=\", x,y )\n",
    "            # the opponent changes 1 ---> 0 in his board obj_opp.matmain \n",
    "            obj_opp.matmain[x,y] = 0\n",
    "            # you change 0 ---> 1 in your board of choices       \n",
    "            self.matrecord[x,y] = 1\n",
    "        else: \n",
    "            #print('you missed', obj_opp.matmain[x,y], \"(x,y)=\", x,y )\n",
    "            # you change 0 ---> -1 in your board of choices       \n",
    "            self.matrecord[x,y] = -1 \n",
    "            \n",
    "            \n",
    "\n",
    "\n",
    "    def plot_board(self, nattack, nplot):\n",
    "        N = 2\n",
    "        plt.subplot(1,2,nplot)\n",
    "        plt.imshow( self.matmain, cmap=plt.cm.get_cmap('Blues', N), origin='lower')\n",
    "        plt.colorbar(ticks=range(N))\n",
    "        plt.clim(-0.5, N - 0.5)     \n",
    "        plt.xticks([]),plt.yticks([])\n",
    "        plt.title(\"Board of %s after %d attacks\"%(self.name, nattack) )\n",
    "\n"
   ]
  },
  {
   "cell_type": "code",
   "execution_count": 3,
   "metadata": {},
   "outputs": [
    {
     "name": "stdout",
     "output_type": "stream",
     "text": [
      " --------------------------- Declarations and initializaions --------------------------- \n",
      " --------------------------- Dynamics of alternating attacks --------------------------- \n",
      " --------------------------- see the results --------------------------- \n"
     ]
    },
    {
     "data": {
      "image/png": "[encoded data removed]",
      "text/plain": [
       "<Figure size 864x360 with 4 Axes>"
      ]
     },
     "metadata": {
      "needs_background": "light"
     },
     "output_type": "display_data"
    },
    {
     "data": {
      "image/png": "[encoded data removed]",
      "text/plain": [
       "<Figure size 864x360 with 4 Axes>"
      ]
     },
     "metadata": {
      "needs_background": "light"
     },
     "output_type": "display_data"
    }
   ],
   "source": [
    "      \n",
    "print(' --------------------------- Declarations and initializaions --------------------------- ')\n",
    "L  = 4\n",
    "n1 = 12\n",
    "n0 = L*L - n1\n",
    "nattack = 10\n",
    "\n",
    "obj1 = Player('Eduardo',L)\n",
    "obj2 = Player('Monica',L)\n",
    "\n",
    "obj1.initialize_mat( n0,n1 )\n",
    "obj2.initialize_mat( n0,n1 )\n",
    "\n",
    "plt.figure(figsize=(12,5))\n",
    "obj1.plot_board(0,nplot=1)\n",
    "obj2.plot_board(0,nplot=2)\n",
    "\n",
    "print(' --------------------------- Dynamics of alternating attacks --------------------------- ')\n",
    "# Here I set the number of attack <= n1 . The winner is the player with more hits\n",
    "for i in range(nattack):\n",
    "    # 1 attacks 2\n",
    "    obj1.attack(obj2)\n",
    "    # 2 attacks 1\n",
    "    obj2.attack(obj1)    \n",
    "\n",
    "print(' --------------------------- see the results --------------------------- ')\n",
    "\n",
    "plt.figure(figsize=(12,5))\n",
    "obj1.plot_board(nattack,nplot=1)\n",
    "obj2.plot_board(nattack,nplot=2)\n"
   ]
  },
  {
   "cell_type": "code",
   "execution_count": null,
   "metadata": {},
   "outputs": [],
   "source": []
  }
 ],
 "metadata": {
  "anaconda-cloud": {},
  "kernelspec": {
   "display_name": "Python [conda env:anaconda]",
   "language": "python",
   "name": "conda-env-anaconda-py"
  },
  "language_info": {
   "codemirror_mode": {
    "name": "ipython",
    "version": 2
   },
   "file_extension": ".py",
   "mimetype": "text/x-python",
   "name": "python",
   "nbconvert_exporter": "python",
   "pygments_lexer": "ipython2",
   "version": "2.7.15"
  }
 },
 "nbformat": 4,
 "nbformat_minor": 2
}
