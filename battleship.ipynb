{
 "cells": [
  {
   "cell_type": "code",
   "execution_count": 1,
   "metadata": {},
   "outputs": [],
   "source": [
    "import random as rd\n",
    "import numpy as np\n",
    "import matplotlib.pyplot as plt"
   ]
  },
  {
   "cell_type": "code",
   "execution_count": 2,
   "metadata": {},
   "outputs": [],
   "source": [
    "class Player:\n",
    "    \n",
    "    def __init__(self, name, L, n1):\n",
    "        self.L = L        \n",
    "        self.name = name\n",
    "        self.matmain = np.full((L, L), -1)\n",
    "        self.matrecord = np.zeros((L, L), dtype=int) #your register of choices regarding attacks in the opponent        \n",
    "        self.n_ship = n1\n",
    "        \n",
    "    def measures(self):         \n",
    "        self.n_ship = np.sum(self.matmain==1)  \n",
    "\n",
    "    def initialize_mat(self,n0,n1): \n",
    "        aux0 = np.zeros((n0), dtype=int)\n",
    "        aux1 = np.ones((n1), dtype=int)\n",
    "        full = np.concatenate( (aux0,aux1), axis=None)\n",
    "        np.random.shuffle(full)\n",
    "        self.matmain = np.reshape(full , (L, L)) \n",
    "                \n",
    "    def attack(self,obj_opp):                 \n",
    "        # Now pick  at random (x,y)  from your board of choices self.matrecord == 0 (you haven't chosen previously)\n",
    "        x0_choices, y0_choices = np.where( self.matrecord==0 ) \n",
    "        chosen = rd.randint(0,len(x0_choices)-1)                         \n",
    "\n",
    "        x = x0_choices[chosen]\n",
    "        y = y0_choices[chosen]\n",
    "\n",
    "        if obj_opp.matmain[x,y] == 1: \n",
    "            #print('you hitted', obj_opp.matmain[x,y], \"(x,y)=\", x,y )\n",
    "            obj_opp.matmain[x,y] = 0\n",
    "            self.matrecord[x,y] = 1\n",
    "        else: \n",
    "            #print('you missed', obj_opp.matmain[x,y], \"(x,y)=\", x,y )\n",
    "            self.matrecord[x,y] = 2\n",
    "            \n",
    "    def plot_board(self, nattack, nplot, nvalues=2):        \n",
    "        \n",
    "        plt.subplot(1,2,nplot)\n",
    "\n",
    "        plt.imshow( self.matmain, cmap=plt.cm.get_cmap('Blues', nvalues), origin='lower')\n",
    "        plt.colorbar(ticks=range(nvalues))\n",
    "        \n",
    "        plt.clim(-0.5, nvalues-0.5)     \n",
    "        plt.xticks([]),plt.yticks([])\n",
    "        if nattack==0: plt.title(\"Board of %s at t=0\"%(self.name) )\n",
    "        else:  plt.title(\"Board of %s after t=%d attacks\"%(self.name, nattack) )\n"
   ]
  },
  {
   "cell_type": "code",
   "execution_count": null,
   "metadata": {},
   "outputs": [],
   "source": []
  },
  {
   "cell_type": "code",
   "execution_count": 3,
   "metadata": {},
   "outputs": [
    {
     "name": "stdout",
     "output_type": "stream",
     "text": [
      " --------------------------- Declarations and initializaions --------------------------- \n",
      " --------------------------- Dynamics of alternating attacks --------------------------- \n",
      "nship(Eduardo)=15    nship(Monica)=14\n",
      "nship(Eduardo)=15    nship(Monica)=14\n",
      "nship(Eduardo)=15    nship(Monica)=13\n",
      "nship(Eduardo)=15    nship(Monica)=12\n",
      "nship(Eduardo)=15    nship(Monica)=11\n",
      "nship(Eduardo)=14    nship(Monica)=11\n",
      "nship(Eduardo)=14    nship(Monica)=10\n",
      "nship(Eduardo)=14    nship(Monica)=9\n",
      "nship(Eduardo)=14    nship(Monica)=8\n",
      "nship(Eduardo)=14    nship(Monica)=7\n",
      "nship(Eduardo)=13    nship(Monica)=7\n",
      "nship(Eduardo)=12    nship(Monica)=7\n",
      "nship(Eduardo)=11    nship(Monica)=7\n",
      "nship(Eduardo)=10    nship(Monica)=7\n",
      "nship(Eduardo)=9    nship(Monica)=7\n",
      "nship(Eduardo)=8    nship(Monica)=7\n",
      "nship(Eduardo)=8    nship(Monica)=6\n",
      "nship(Eduardo)=7    nship(Monica)=6\n",
      "nship(Eduardo)=6    nship(Monica)=6\n",
      "nship(Eduardo)=5    nship(Monica)=6\n",
      "nship(Eduardo)=4    nship(Monica)=6\n",
      "nship(Eduardo)=4    nship(Monica)=5\n",
      "nship(Eduardo)=3    nship(Monica)=5\n",
      "nship(Eduardo)=3    nship(Monica)=4\n",
      "nship(Eduardo)=3    nship(Monica)=3\n",
      "nship(Eduardo)=3    nship(Monica)=2\n",
      "nship(Eduardo)=3    nship(Monica)=1\n",
      "nship(Eduardo)=3    nship(Monica)=0\n",
      " --------------------------- see the results --------------------------- \n"
     ]
    },
    {
     "data": {
      "image/png": "[encoded data removed]",
      "text/plain": [
       "<Figure size 864x360 with 4 Axes>"
      ]
     },
     "metadata": {
      "needs_background": "light"
     },
     "output_type": "display_data"
    },
    {
     "data": {
      "image/png": "[encoded data removed]",
      "text/plain": [
       "<Figure size 864x360 with 4 Axes>"
      ]
     },
     "metadata": {
      "needs_background": "light"
     },
     "output_type": "display_data"
    }
   ],
   "source": [
    "print(' --------------------------- Declarations and initializaions --------------------------- ')\n",
    "L  = 4\n",
    "n1 = 15\n",
    "n0 = L*L - n1\n",
    "nattack = n1\n",
    "\n",
    "obj1 = Player('Eduardo',L, n1)\n",
    "obj2 = Player('Monica' ,L, n1)\n",
    "\n",
    "obj1.initialize_mat( n0, n1)\n",
    "obj2.initialize_mat( n0, n1)\n",
    "\n",
    "plt.figure(figsize=(12,5))\n",
    "obj1.plot_board(0,nplot=1,nvalues=2)\n",
    "obj2.plot_board(0,nplot=2,nvalues=2)\n",
    "\n",
    "\n",
    "print(' --------------------------- Dynamics of alternating attacks --------------------------- ')\n",
    "nattack = 0\n",
    "while( obj1.n_ship>0 and obj2.n_ship>0 ):    \n",
    "    \n",
    "    # flip a coin to see who will attack in this turn\n",
    "    if rd.random()<0.5: obj1.attack(obj2) # player_1 attacks player_2         \n",
    "    else: obj2.attack(obj1) # player_2 attacks player_1 \n",
    "    \n",
    "    # measures\n",
    "    obj1.measures()\n",
    "    obj2.measures()\n",
    "\n",
    "    print(\"nship(%s)=%d    nship(%s)=%d\"%(obj1.name,obj1.n_ship,obj2.name,obj2.n_ship) )\n",
    "    \n",
    "    nattack=nattack+1\n",
    "\n",
    "print(' --------------------------- see the results --------------------------- ')\n",
    "plt.figure(figsize=(12,5))\n",
    "obj1.plot_board(nattack,nplot=1)\n",
    "obj2.plot_board(nattack,nplot=2)"
   ]
  },
  {
   "cell_type": "code",
   "execution_count": null,
   "metadata": {},
   "outputs": [],
   "source": []
  }
 ],
 "metadata": {
  "anaconda-cloud": {},
  "kernelspec": {
   "display_name": "Python [conda env:anaconda]",
   "language": "python",
   "name": "conda-env-anaconda-py"
  },
  "language_info": {
   "codemirror_mode": {
    "name": "ipython",
    "version": 2
   },
   "file_extension": ".py",
   "mimetype": "text/x-python",
   "name": "python",
   "nbconvert_exporter": "python",
   "pygments_lexer": "ipython2",
   "version": "2.7.15"
  }
 },
 "nbformat": 4,
 "nbformat_minor": 2
}
